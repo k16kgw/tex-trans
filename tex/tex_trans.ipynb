{
 "cells": [
  {
   "cell_type": "code",
   "execution_count": 16,
   "metadata": {},
   "outputs": [],
   "source": [
    "import glob\n",
    "import os\n",
    "\n",
    "import pathlib\n",
    "import shutil\n",
    "\n",
    "import re"
   ]
  },
  {
   "cell_type": "code",
   "execution_count": 11,
   "metadata": {},
   "outputs": [],
   "source": [
    "def change_suffix(file_name, from_suffix, to_suffix):\n",
    "    # ファイルの拡張子を得る\n",
    "    sf = pathlib.PurePath(file_name).suffix\n",
    "    \n",
    "    # 変更対象かどうか判定する\n",
    "    if sf == from_suffix:\n",
    "        # ファイル名(拡張子除く)を得る\n",
    "        st = pathlib.PurePath(file_name).stem\n",
    "\n",
    "        # 変更後のファイル名を得る\n",
    "        to_name = st + to_suffix\n",
    "\n",
    "        # ファイル名を変更する\n",
    "        shutil.copyfile(file_name, to_name)\n",
    "    \n",
    "    return to_name"
   ]
  },
  {
   "cell_type": "code",
   "execution_count": 170,
   "metadata": {},
   "outputs": [],
   "source": [
    "change_suffix('sample.abc', '.abc', '.xyz')\n",
    "\n",
    "file_name = glob.glob('*.tex')[0]\n",
    "file_name = change_suffix(file_name, '.tex', '.txt')"
   ]
  },
  {
   "cell_type": "code",
   "execution_count": 175,
   "metadata": {},
   "outputs": [],
   "source": [
    "def tex_trans(data_lines):\n",
    "    \n",
    "    # data_lines = data_lines.replace('documentclass', 'bocumentclass')\n",
    "\n",
    "    # \\begin{document} 以下を抽出\n",
    "    data_lines = re.search(r'\\\\begin{document}[\\s\\S]*\\\\end{document}', data_lines).group()\n",
    "    # data_lines = data_lines[data_lines.find(r'\\begin{document}')+16:]\n",
    "\n",
    "    # data_lines = data_lines.replace('\\n', '')\n",
    "\n",
    "    # 余計な空白を一つに変換\n",
    "    data_lines = re.sub('[ ]+', ' ', data_lines)\n",
    "    # 複数改行を一つの改行に変換\n",
    "    data_lines = re.sub('[\\n]+', '\\n', data_lines)\n",
    "    # 改行後の空白を削除\n",
    "    data_lines = re.sub('\\n'+'[ ]+', '\\n', data_lines) \n",
    "\n",
    "    # 方程式の変換\n",
    "    equations = re.findall(r'\\\\begin{equation}[\\s\\S]*?\\\\end{equation}', data_lines)\n",
    "    for equation in equations:\n",
    "        data_lines = data_lines.replace(equation, 'EQUATION')\n",
    "    aligns = re.findall(r'\\\\begin{align}[\\s\\S]*?\\\\end{align}', data_lines)\n",
    "    equations = re.findall(r'\\\\begin{equation\\*}[\\s\\S]*?\\\\end{equation\\*}', data_lines)\n",
    "    for equation in equations:\n",
    "        data_lines = data_lines.replace(equation, 'EQUATION')\n",
    "    for align in aligns:\n",
    "        data_lines = data_lines.replace(eq, 'EQUATION')\n",
    "    commentouts = re.findall(r'%.*\\n', data_lines)\n",
    "    for com in commentouts:\n",
    "        data_lines = data_lines.replace(com, '')\n",
    "    functions = re.findall(r'(\\n\\\\[\\s\\S]*?)(?=\\n)', data_lines) # \n",
    "    # functions = re.findall(r'(\\n\\\\[\\s\\S]*?)\\n', data_lines) # これだと重複は持ってこないことに注意\n",
    "    for func in functions:\n",
    "        data_lines = data_lines.replace(func, '')\n",
    "    eqs = re.findall(r'\\$[\\s\\S]*?\\$', data_lines)\n",
    "    for eq in eqs:\n",
    "        data_lines = data_lines.replace(eq, 'EQ')\n",
    "\n",
    "\n",
    "    data_lines = data_lines.lstrip(r'\\begin{document}')\n",
    "    data_lines = data_lines.rstrip(r'\\end{document}')\n",
    "\n",
    "    # data_lines = data_lines.replace(re.search(r'\\\\begin{equation}[\\s\\S]*\\\\end{equation}', data_lines).group(), 'EQUATION')\n",
    "\n",
    "    # 文中の改行を削除\n",
    "    data_lines = re.sub(r'\\n(?=[a-z])', ' ', data_lines)\n",
    "    data_lines = re.sub(r'\\n(?=[0123456789])', ' ', data_lines)\n",
    "    data_lines = re.sub('[ ]+', ' ', data_lines)\n",
    "\n",
    "    return data_lines"
   ]
  },
  {
   "cell_type": "code",
   "execution_count": 176,
   "metadata": {},
   "outputs": [],
   "source": [
    "with open(file_name, encoding='utf-8') as f:\n",
    "    data_lines = f.read()\n",
    "\n",
    "data_lines = tex_trans(data_lines)\n",
    "\n",
    "# 同じファイル名で保存\n",
    "new_file_name = 'output.txt'\n",
    "with open(new_file_name, mode='w', encoding='utf-8') as f:\n",
    "    f.write(data_lines)"
   ]
  },
  {
   "cell_type": "code",
   "execution_count": null,
   "metadata": {},
   "outputs": [],
   "source": []
  }
 ],
 "metadata": {
  "interpreter": {
   "hash": "8bbeefe61f980c134c9103f64424620459ad8695709dd19085514701443d889f"
  },
  "kernelspec": {
   "display_name": "Python 3.8.5 64-bit ('base': conda)",
   "name": "python3"
  },
  "language_info": {
   "codemirror_mode": {
    "name": "ipython",
    "version": 3
   },
   "file_extension": ".py",
   "mimetype": "text/x-python",
   "name": "python",
   "nbconvert_exporter": "python",
   "pygments_lexer": "ipython3",
   "version": "3.8.5"
  },
  "orig_nbformat": 4
 },
 "nbformat": 4,
 "nbformat_minor": 2
}
